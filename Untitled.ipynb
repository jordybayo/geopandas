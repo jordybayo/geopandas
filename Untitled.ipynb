{
 "cells": [
  {
   "cell_type": "code",
   "execution_count": 1,
   "id": "706c6143",
   "metadata": {},
   "outputs": [
    {
     "name": "stderr",
     "output_type": "stream",
     "text": [
      "/home/youngdevps/anaconda3/envs/ai/lib/python3.8/site-packages/geopandas/_compat.py:106: UserWarning: The Shapely GEOS version (3.8.0-CAPI-1.13.1 ) is incompatible with the GEOS version PyGEOS was compiled with (3.9.1-CAPI-1.14.2). Conversions between both will be slow.\n",
      "  warnings.warn(\n"
     ]
    }
   ],
   "source": [
    "import pandas as pd\n",
    "import geopandas as gpd\n",
    "from shapely.geometry import Point\n",
    "%matplotlib inline"
   ]
  },
  {
   "cell_type": "code",
   "execution_count": 35,
   "id": "15367d9b",
   "metadata": {},
   "outputs": [
    {
     "data": {
      "text/html": [
       "<div>\n",
       "<style scoped>\n",
       "    .dataframe tbody tr th:only-of-type {\n",
       "        vertical-align: middle;\n",
       "    }\n",
       "\n",
       "    .dataframe tbody tr th {\n",
       "        vertical-align: top;\n",
       "    }\n",
       "\n",
       "    .dataframe thead th {\n",
       "        text-align: right;\n",
       "    }\n",
       "</style>\n",
       "<table border=\"1\" class=\"dataframe\">\n",
       "  <thead>\n",
       "    <tr style=\"text-align: right;\">\n",
       "      <th></th>\n",
       "      <th>ID_0</th>\n",
       "      <th>ISO</th>\n",
       "      <th>NAME_0</th>\n",
       "      <th>ID_1</th>\n",
       "      <th>NAME_1</th>\n",
       "      <th>TYPE_1</th>\n",
       "      <th>ENGTYPE_1</th>\n",
       "      <th>NL_NAME_1</th>\n",
       "      <th>VARNAME_1</th>\n",
       "      <th>geometry</th>\n",
       "    </tr>\n",
       "  </thead>\n",
       "  <tbody>\n",
       "    <tr>\n",
       "      <th>0</th>\n",
       "      <td>41</td>\n",
       "      <td>CMR</td>\n",
       "      <td>Cameroon</td>\n",
       "      <td>1</td>\n",
       "      <td>Adamaoua</td>\n",
       "      <td>Région</td>\n",
       "      <td>Region</td>\n",
       "      <td>None</td>\n",
       "      <td>Adamoua|Adamaua|Adamawa</td>\n",
       "      <td>POLYGON ((12.28961 8.17652, 12.28910 8.17356, ...</td>\n",
       "    </tr>\n",
       "    <tr>\n",
       "      <th>1</th>\n",
       "      <td>41</td>\n",
       "      <td>CMR</td>\n",
       "      <td>Cameroon</td>\n",
       "      <td>2</td>\n",
       "      <td>Centre</td>\n",
       "      <td>Région</td>\n",
       "      <td>Region</td>\n",
       "      <td>None</td>\n",
       "      <td>Central</td>\n",
       "      <td>POLYGON ((11.99259 6.26126, 11.99613 6.26115, ...</td>\n",
       "    </tr>\n",
       "    <tr>\n",
       "      <th>2</th>\n",
       "      <td>41</td>\n",
       "      <td>CMR</td>\n",
       "      <td>Cameroon</td>\n",
       "      <td>3</td>\n",
       "      <td>Est</td>\n",
       "      <td>Région</td>\n",
       "      <td>Region</td>\n",
       "      <td>None</td>\n",
       "      <td>East</td>\n",
       "      <td>POLYGON ((14.39409 6.06241, 14.39550 6.06004, ...</td>\n",
       "    </tr>\n",
       "    <tr>\n",
       "      <th>3</th>\n",
       "      <td>41</td>\n",
       "      <td>CMR</td>\n",
       "      <td>Cameroon</td>\n",
       "      <td>4</td>\n",
       "      <td>Extrême-Nord</td>\n",
       "      <td>Région</td>\n",
       "      <td>Region</td>\n",
       "      <td>None</td>\n",
       "      <td>Extreme-North</td>\n",
       "      <td>POLYGON ((14.08553 13.07739, 14.08884 13.07707...</td>\n",
       "    </tr>\n",
       "    <tr>\n",
       "      <th>4</th>\n",
       "      <td>41</td>\n",
       "      <td>CMR</td>\n",
       "      <td>Cameroon</td>\n",
       "      <td>5</td>\n",
       "      <td>Littoral</td>\n",
       "      <td>Région</td>\n",
       "      <td>Region</td>\n",
       "      <td>None</td>\n",
       "      <td>Litoral</td>\n",
       "      <td>POLYGON ((9.84270 5.33485, 9.84340 5.33423, 9....</td>\n",
       "    </tr>\n",
       "  </tbody>\n",
       "</table>\n",
       "</div>"
      ],
      "text/plain": [
       "   ID_0  ISO    NAME_0  ID_1        NAME_1  TYPE_1 ENGTYPE_1 NL_NAME_1  \\\n",
       "0    41  CMR  Cameroon     1      Adamaoua  Région    Region      None   \n",
       "1    41  CMR  Cameroon     2        Centre  Région    Region      None   \n",
       "2    41  CMR  Cameroon     3           Est  Région    Region      None   \n",
       "3    41  CMR  Cameroon     4  Extrême-Nord  Région    Region      None   \n",
       "4    41  CMR  Cameroon     5      Littoral  Région    Region      None   \n",
       "\n",
       "                 VARNAME_1                                           geometry  \n",
       "0  Adamoua|Adamaua|Adamawa  POLYGON ((12.28961 8.17652, 12.28910 8.17356, ...  \n",
       "1                  Central  POLYGON ((11.99259 6.26126, 11.99613 6.26115, ...  \n",
       "2                     East  POLYGON ((14.39409 6.06241, 14.39550 6.06004, ...  \n",
       "3            Extreme-North  POLYGON ((14.08553 13.07739, 14.08884 13.07707...  \n",
       "4                  Litoral  POLYGON ((9.84270 5.33485, 9.84340 5.33423, 9....  "
      ]
     },
     "execution_count": 35,
     "metadata": {},
     "output_type": "execute_result"
    }
   ],
   "source": [
    "states = gpd.read_file('CMR_adm/CMR_adm1.shp')\n",
    "states.head()"
   ]
  },
  {
   "cell_type": "code",
   "execution_count": 34,
   "id": "ba2e5c60",
   "metadata": {},
   "outputs": [
    {
     "data": {
      "text/plain": [
       "<AxesSubplot:>"
      ]
     },
     "execution_count": 34,
     "metadata": {},
     "output_type": "execute_result"
    },
    {
     "data": {
      "image/png": "[encoded data removed]",
      "text/plain": [
       "<Figure size 432x288 with 1 Axes>"
      ]
     },
     "metadata": {
      "needs_background": "light"
     },
     "output_type": "display_data"
    }
   ],
   "source": [
    "states.plot()"
   ]
  },
  {
   "cell_type": "code",
   "execution_count": 36,
   "id": "ab9f200b",
   "metadata": {},
   "outputs": [
    {
     "data": {
      "text/plain": [
       "<AxesSubplot:>"
      ]
     },
     "execution_count": 36,
     "metadata": {},
     "output_type": "execute_result"
    },
    {
     "data": {
      "image/png": "[encoded data removed]",
      "text/plain": [
       "<Figure size 432x288 with 1 Axes>"
      ]
     },
     "metadata": {
      "needs_background": "light"
     },
     "output_type": "display_data"
    }
   ],
   "source": [
    "states[states.ID_1 > 4].plot()"
   ]
  },
  {
   "cell_type": "code",
   "execution_count": null,
   "id": "38a46233",
   "metadata": {},
   "outputs": [],
   "source": []
  }
 ],
 "metadata": {
  "kernelspec": {
   "display_name": "Python 3",
   "language": "python",
   "name": "python3"
  },
  "language_info": {
   "codemirror_mode": {
    "name": "ipython",
    "version": 3
   },
   "file_extension": ".py",
   "mimetype": "text/x-python",
   "name": "python",
   "nbconvert_exporter": "python",
   "pygments_lexer": "ipython3",
   "version": "3.8.8"
  }
 },
 "nbformat": 4,
 "nbformat_minor": 5
}
